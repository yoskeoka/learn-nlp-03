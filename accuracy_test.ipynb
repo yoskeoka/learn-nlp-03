{
 "cells": [
  {
   "cell_type": "code",
   "execution_count": null,
   "metadata": {
    "collapsed": true
   },
   "outputs": [],
   "source": [
    "import numpy as np\n",
    "import matplotlib.pyplot as plt\n",
    "from matplotlib.colors import LogNorm\n",
    "\n",
    "category_names = [\"A\", \"B\", \"C\", \"D\", \"E\", \"F\", \"G\", \"H\"]"
   ]
  },
  {
   "cell_type": "code",
   "execution_count": null,
   "metadata": {
    "collapsed": true
   },
   "outputs": [],
   "source": [
    "def predict_XXX1():\n",
    "    # \"final_dataset/*.csv\" を読み込んで予測する処理をここに書く\n",
    "    return labels, predicts"
   ]
  },
  {
   "cell_type": "code",
   "execution_count": null,
   "metadata": {
    "collapsed": true
   },
   "outputs": [],
   "source": [
    "def predict_XXX2():\n",
    "    # \"final_dataset/*.csv\" を読み込んで予測する処理をここに書く\n",
    "    return labels, predicts"
   ]
  },
  {
   "cell_type": "code",
   "execution_count": null,
   "metadata": {
    "collapsed": true
   },
   "outputs": [],
   "source": [
    "def predict_XXX3():\n",
    "    # \"final_dataset/*.csv\" を読み込んで予測する処理をここに書く\n",
    "    return labels, predicts"
   ]
  },
  {
   "cell_type": "code",
   "execution_count": null,
   "metadata": {
    "collapsed": true
   },
   "outputs": [],
   "source": [
    "def predict_XXX4():\n",
    "    # \"final_dataset/*.csv\" を読み込んで予測する処理をここに書く\n",
    "    return labels, predicts"
   ]
  },
  {
   "cell_type": "code",
   "execution_count": null,
   "metadata": {
    "collapsed": true
   },
   "outputs": [],
   "source": [
    "def predict_XXX5():\n",
    "    # \"final_dataset/*.csv\" を読み込んで予測する処理をここに書く\n",
    "    return labels, predicts"
   ]
  },
  {
   "cell_type": "code",
   "execution_count": null,
   "metadata": {
    "collapsed": true
   },
   "outputs": [],
   "source": [
    "def draw_confusion_matrix(confusion_matrix, name):\n",
    "    # リコール(再現率)に変換\n",
    "    # ラベルごとに正規化するほうがリコール(再現率)\n",
    "    # 予測結果ごとに正規化するほうがプレシジョン(適合率)\n",
    "    recall_matrix = []\n",
    "    for confusion_row_for_label in confusion_matrix:\n",
    "\n",
    "        # ラベルごとのデータ数を計算\n",
    "        label_count = sum(confusion_row_for_label, 0)\n",
    "\n",
    "        # ラベルごとのリコールを計算\n",
    "        recall_row = [float(i)/float(label_count)\n",
    "                      for i in confusion_row_for_label]\n",
    "\n",
    "        # recall_matrixに追加\n",
    "        recall_matrix.append(recall_row)\n",
    "\n",
    "        # なんか描画データが残ってたら破棄\n",
    "        plt.clf()\n",
    "\n",
    "    # plotを準備\n",
    "    fig = plt.figure()\n",
    "    ax = fig.add_subplot(111)\n",
    "    ax.set_aspect(1)\n",
    "\n",
    "    # confusion matrixの色の部分(リコール)を描画\n",
    "    res = ax.imshow(\n",
    "        np.array(recall_matrix),\n",
    "        cmap=plt.cm.YlOrBr, \n",
    "        #norm=LogNorm(), # 対数スケール\n",
    "        interpolation='nearest')\n",
    "\n",
    "    # 幅と高さを取得\n",
    "    width, height = confusion_matrix.shape\n",
    "\n",
    "    # confusion matrixの数値の部分を描画\n",
    "    for x in range(width):\n",
    "        for y in range(height):\n",
    "            ax.annotate(\n",
    "                #str(confusion_matrix[x][y]),\n",
    "                \"{:.02f}\".format(recall_matrix[x][y]),\n",
    "                xy=(y, x), \n",
    "                horizontalalignment='center',\n",
    "                verticalalignment='center')\n",
    "\n",
    "    # カラーバーを描画\n",
    "    fig.colorbar(res)\n",
    "\n",
    "    # x, y軸を描画\n",
    "    plt.xticks(range(width), category_names[:width])\n",
    "    plt.yticks(range(height), category_names[:height])\n",
    "\n",
    "    # 保存\n",
    "    plt.savefig('confusion_matrix_{name}.png'.format(name=name), format='png')\n",
    "    plt.close('all')"
   ]
  },
  {
   "cell_type": "code",
   "execution_count": null,
   "metadata": {
    "collapsed": true
   },
   "outputs": [],
   "source": [
    "import tensorflow as tf\n",
    "\n",
    "def run_test(model_name, func):\n",
    "    sequences, labels, predicts = globals()[\"predict_\" + model_name]()\n",
    "    \n",
    "    classes = [p[\"classes\"] for p in predicts]\n",
    "    confusion = tf.confusion_matrix(labels=labels, predictions=classes, num_classes=len(category_names))\n",
    "\n",
    "    with tf.Session() as sess:\n",
    "        confusion_matrix = sess.run(confusion)\n",
    "\n",
    "    # 正解率\n",
    "    accuracy = np.trace(confusion_matrix) / np.sum(confusion_matrix)\n",
    "    \n",
    "    # マイクロ指標\n",
    "    micro_recall = np.sum(np.diag(confusion_matrix)) / np.sum(confusion_matrix)\n",
    "    micro_precision = np.sum(np.diag(confusion_matrix)) / np.sum(confusion_matrix)\n",
    "    micro_f1 = 2 * (micro_precision * micro_recall) / (micro_precision + micro_recall)\n",
    "    \n",
    "    # マクロ指標\n",
    "    macro_recall = np.mean(np.diag(confusion_matrix) / np.sum(confusion_matrix, axis=1))\n",
    "    macro_precision = np.mean(np.diag(confusion_matrix) / np.sum(confusion_matrix, axis=0))\n",
    "    macro_f1 = 2 * (macro_precision * macro_recall) / (macro_precision + macro_recall)\n",
    "    \n",
    "    # 出力\n",
    "    print(\"[model {name}]\".format(name=model_name))\n",
    "    print(confusion_matrix)\n",
    "    \n",
    "    print(\"accuracy:\", accuracy)\n",
    "    \n",
    "    print(\"micro_recall:\", recall)\n",
    "    print(\"micro_precision:\", precision)\n",
    "    print(\"micro_f1:\", micro_f1)\n",
    "    \n",
    "    print(\"macro_recall:\", macro_recall)\n",
    "    print(\"macro_precision:\", macro_precision)\n",
    "    print(\"macro_f1:\", macro_f1)\n",
    "    \n",
    "    with open(\"result/model_{name}.txt\".format(name=model_name), \"w\") as f:\n",
    "        f.write(\"[model {name}]\\n\".format(name=model_name))\n",
    "        f.write(str(confusion_matrix) + \"\\n\")\n",
    "        \n",
    "        f.write(\"accuracy:{}\\n\".format(accuracy))\n",
    "        f.write(\"micro_recall:{}\\n\".format(micro_recall))\n",
    "        f.write(\"micro_precision:{}\\n\".format(micro_precision))\n",
    "        f.write(\"micro_f1:{}\\n\".format(micro_f1))\n",
    "        \n",
    "        f.write(\"macro_recall:{}\\n\".format(macro_recall))\n",
    "        f.write(\"macro_precision:{}\\n\".format(macro_precision))\n",
    "        f.write(\"macro_f1:{}\\n\".format(macro_f1))\n",
    "    \n",
    "    # 混同行列を画像出力\n",
    "    draw_confusion_matrix(confusion_matrix,\n",
    "                          \"confusion_matrix/model_{name}.png\".format(name=model_name))"
   ]
  },
  {
   "cell_type": "code",
   "execution_count": null,
   "metadata": {
    "collapsed": true
   },
   "outputs": [],
   "source": [
    "run_test(\"\")"
   ]
  }
 ],
 "metadata": {
  "kernelspec": {
   "display_name": "Python 3",
   "language": "python",
   "name": "python3"
  },
  "language_info": {
   "codemirror_mode": {
    "name": "ipython",
    "version": 3
   },
   "file_extension": ".py",
   "mimetype": "text/x-python",
   "name": "python",
   "nbconvert_exporter": "python",
   "pygments_lexer": "ipython3",
   "version": "3.5.2"
  }
 },
 "nbformat": 4,
 "nbformat_minor": 2
}
